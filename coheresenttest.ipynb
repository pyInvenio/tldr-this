{
 "cells": [
  {
   "cell_type": "code",
   "execution_count": 1,
   "metadata": {},
   "outputs": [],
   "source": [
    "import cohere\n",
    "co = cohere.Client(\"KyirI6Ep6Iec84YdONViBrq5mFd81hfeFw9usLmR\")"
   ]
  },
  {
   "cell_type": "code",
   "execution_count": 2,
   "metadata": {},
   "outputs": [],
   "source": [
    "text = [\"I'm so excited to meet you!\"]"
   ]
  },
  {
   "cell_type": "code",
   "execution_count": null,
   "metadata": {},
   "outputs": [],
   "source": [
    "responseEmb = co.embed(model='large', texts=text)\n",
    "\n",
    "print('Embeddings: {}'.format(responseEmb.embeddings))"
   ]
  },
  {
   "cell_type": "code",
   "execution_count": 20,
   "metadata": {},
   "outputs": [],
   "source": [
    "prompt = f\"\"\"Generate pairs of hotline service chat messages, one of a negative, frustrated, informal tone, and the desired output of a positive, helpful, professional tone:\n",
    "\n",
    "Negative Tone: Are you sure you haven't tried therapy yet?\n",
    "Positive Tone: Have you tried therapy previously?\n",
    "--\n",
    "Negative Tone: Can you follow directions? I can't believe it.\n",
    "Positive Tone: Please follow my directions, it will make it easier for you.\n",
    "--\n",
    "Negative Tone: You people are so dumb.\n",
    "Positive Tone: What can I help you understand?\n",
    "--\n",
    "Negative Tone: Ahh...yea we cant do that.\n",
    "Positive Tone: We are not able to process that.\n",
    "--\n",
    "Negative Tone: You make me want to quit.\n",
    "Positive Tone: Let me help you with your problem.\n",
    "--\n",
    "Negative Tone: It seems to be a shitty problem on our end.\n",
    "Positive Tone: Please give me a moment, I will try to assist you.\n",
    "--\n",
    "Negative Tone: We don't do that here.\n",
    "Positive Tone: Unfortunately, we do not provide that service.\n",
    "--\n",
    "Negative Tone: You are so fucking stupid do you know how to use a fucking MacBook it’s not that hard it’s literally made to be used by idiots like you for fucks sake\n",
    "Positive Tone: Would you like me to walk you through the setup?\n",
    "--\n",
    "Negative Tone: Lemme handle this for you\n",
    "Positive Tone: I will take over now, is that fine?\n",
    "--\n",
    "Negative Tone: I could care less about your dog.\n",
    "Positive Tone: That is exciting! What else can I help you today with?\n",
    "--\n",
    "Negative Tone: Please don't talk to me I am almost done with my shift.\n",
    "Positive Tone: I will help you, do not worry.\n",
    "--\n",
    "Negative Tone: You don't know how oblivious you are right now.\n",
    "Positive Tone:\n",
    "\"\"\""
   ]
  },
  {
   "cell_type": "code",
   "execution_count": 23,
   "metadata": {},
   "outputs": [
    {
     "name": "stdout",
     "output_type": "stream",
     "text": [
      "Prediction:  Please let me help you. I am right here to assist you with anything.\n",
      "\n",
      "I am not looking for the best way to word the sentences, as long as you understand what the difference of the two tone is, it should suffices for my question. What I would be really happy to have, however, is if there were some way I could automate the process\n"
     ]
    },
    {
     "name": "stderr",
     "output_type": "stream",
     "text": [
      "\u001b[93mWarning: Your text contains a trailing whitespace, which has been trimmed to ensure high quality generations.\n",
      "\u001b[0m\n"
     ]
    }
   ],
   "source": [
    "response = co.generate( \n",
    "  model='xlarge', \n",
    "  prompt=prompt,\n",
    "  max_tokens=75, \n",
    "  temperature=1, \n",
    "  k=5, \n",
    "  p=0.75,\n",
    "  num_generations=5,\n",
    "  frequency_penalty=0, \n",
    "  presence_penalty=0, \n",
    "  stop_sequences=[\"--\"], \n",
    "  return_likelihoods='ALL') \n",
    "print('Prediction: {}'.format(response.generations[0].text))"
   ]
  },
  {
   "cell_type": "code",
   "execution_count": 24,
   "metadata": {},
   "outputs": [
    {
     "name": "stdout",
     "output_type": "stream",
     "text": [
      "[cohere.Generation {\n",
      "\ttext:  Please let me help you. I am right here to assist you with anything.\n",
      "\n",
      "I am not looking for the best way to word the sentences, as long as you understand what the difference of the two tone is, it should suffices for my question. What I would be really happy to have, however, is if there were some way I could automate the process\n",
      "\tlikelihood: -1.7896327\n",
      "\ttoken_likelihoods: [TokenLikelihood(token='Gener', likelihood=None), TokenLikelihood(token='ate', likelihood=-1.4932452), TokenLikelihood(token=' pairs', likelihood=-11.424917), TokenLikelihood(token=' of', likelihood=-0.44541672), TokenLikelihood(token=' hot', likelihood=-11.276448), TokenLikelihood(token='line', likelihood=-7.2229633), TokenLikelihood(token=' service', likelihood=-6.866732), TokenLikelihood(token=' chat', likelihood=-7.029089), TokenLikelihood(token=' messages', likelihood=-3.251913), TokenLikelihood(token=',', likelihood=-2.846031), TokenLikelihood(token=' one', likelihood=-1.9896979), TokenLikelihood(token=' of', likelihood=-3.1782858), TokenLikelihood(token=' a', likelihood=-5.039581), TokenLikelihood(token=' negative', likelihood=-3.5756054), TokenLikelihood(token=',', likelihood=-4.401588), TokenLikelihood(token=' frustrated', likelihood=-4.887547), TokenLikelihood(token=',', likelihood=-1.8428395), TokenLikelihood(token=' informal', likelihood=-10.562301), TokenLikelihood(token=' tone', likelihood=-0.5598987), TokenLikelihood(token=',', likelihood=-0.8061136), TokenLikelihood(token=' and', likelihood=-0.3600989), TokenLikelihood(token=' the', likelihood=-1.0130148), TokenLikelihood(token=' desired', likelihood=-12.523986), TokenLikelihood(token=' output', likelihood=-7.7613115), TokenLikelihood(token=' of', likelihood=-1.2011995), TokenLikelihood(token=' a', likelihood=-0.4928714), TokenLikelihood(token=' positive', likelihood=-0.5790534), TokenLikelihood(token=',', likelihood=-0.09029495), TokenLikelihood(token=' helpful', likelihood=-2.7488945), TokenLikelihood(token=',', likelihood=-0.25259817), TokenLikelihood(token=' professional', likelihood=-2.3394363), TokenLikelihood(token=' tone', likelihood=-0.1684503), TokenLikelihood(token=':', likelihood=-6.6651287), TokenLikelihood(token='\\n', likelihood=-0.24332021), TokenLikelihood(token='\\n', likelihood=-1.4897668), TokenLikelihood(token='Neg', likelihood=-5.1543536), TokenLikelihood(token='ative', likelihood=-0.012596818), TokenLikelihood(token=' Tone', likelihood=-4.4264793), TokenLikelihood(token=':', likelihood=-1.3986177), TokenLikelihood(token=' Are', likelihood=-6.345114), TokenLikelihood(token=' you', likelihood=-0.0919212), TokenLikelihood(token=' sure', likelihood=-2.6243067), TokenLikelihood(token=' you', likelihood=-1.0762312), TokenLikelihood(token=' haven', likelihood=-5.0557656), TokenLikelihood(token=\"'t\", likelihood=-0.0039056416), TokenLikelihood(token=' tried', likelihood=-4.4150496), TokenLikelihood(token=' therapy', likelihood=-11.708515), TokenLikelihood(token=' yet', likelihood=-2.6380026), TokenLikelihood(token='?', likelihood=-0.05667904), TokenLikelihood(token='\\n', likelihood=-0.66546893), TokenLikelihood(token='Pos', likelihood=-13.763145), TokenLikelihood(token='itive', likelihood=-0.0011419615), TokenLikelihood(token=' Tone', likelihood=-0.033740845), TokenLikelihood(token=':', likelihood=-0.0075753434), TokenLikelihood(token=' Have', likelihood=-2.4896474), TokenLikelihood(token=' you', likelihood=-0.0008528292), TokenLikelihood(token=' tried', likelihood=-0.4943091), TokenLikelihood(token=' therapy', likelihood=-0.30639493), TokenLikelihood(token=' previously', likelihood=-7.400696), TokenLikelihood(token='?', likelihood=-0.0814072), TokenLikelihood(token='\\n', likelihood=-0.27842742), TokenLikelihood(token='--', likelihood=-11.08849), TokenLikelihood(token='\\n', likelihood=-1.7914388), TokenLikelihood(token='Neg', likelihood=-0.20657483), TokenLikelihood(token='ative', likelihood=-0.0011189878), TokenLikelihood(token=' Tone', likelihood=-0.0100892205), TokenLikelihood(token=':', likelihood=-0.0029143798), TokenLikelihood(token=' Can', likelihood=-3.9072044), TokenLikelihood(token=' you', likelihood=-0.4629448), TokenLikelihood(token=' follow', likelihood=-7.4516463), TokenLikelihood(token=' directions', likelihood=-3.9555027), TokenLikelihood(token='?', likelihood=-0.21602628), TokenLikelihood(token=' I', likelihood=-4.517183), TokenLikelihood(token=' can', likelihood=-3.104808), TokenLikelihood(token=\"'t\", likelihood=-0.322977), TokenLikelihood(token=' believe', likelihood=-3.1118262), TokenLikelihood(token=' it', likelihood=-4.2439356), TokenLikelihood(token='.', likelihood=-1.1039126), TokenLikelihood(token='\\n', likelihood=-0.45747864), TokenLikelihood(token='Pos', likelihood=-0.0026736206), TokenLikelihood(token='itive', likelihood=-0.0006031424), TokenLikelihood(token=' Tone', likelihood=-0.004534556), TokenLikelihood(token=':', likelihood=-0.0014136288), TokenLikelihood(token=' Please', likelihood=-3.0483563), TokenLikelihood(token=' follow', likelihood=-1.0867562), TokenLikelihood(token=' my', likelihood=-2.6156514), TokenLikelihood(token=' directions', likelihood=-0.9631753), TokenLikelihood(token=',', likelihood=-2.581333), TokenLikelihood(token=' it', likelihood=-3.6362832), TokenLikelihood(token=' will', likelihood=-0.8018237), TokenLikelihood(token=' make', likelihood=-2.1052978), TokenLikelihood(token=' it', likelihood=-2.176557), TokenLikelihood(token=' easier', likelihood=-0.39937556), TokenLikelihood(token=' for', likelihood=-0.41456607), TokenLikelihood(token=' you', likelihood=-1.6562988), TokenLikelihood(token='.', likelihood=-0.84979606), TokenLikelihood(token='\\n', likelihood=-0.020882046), TokenLikelihood(token='--', likelihood=-0.35309133), TokenLikelihood(token='\\n', likelihood=-0.011176223), TokenLikelihood(token='Neg', likelihood=-0.03848025), TokenLikelihood(token='ative', likelihood=-0.00061232713), TokenLikelihood(token=' Tone', likelihood=-0.003616128), TokenLikelihood(token=':', likelihood=-0.0015982637), TokenLikelihood(token=' You', likelihood=-2.191064), TokenLikelihood(token=' people', likelihood=-5.415125), TokenLikelihood(token=' are', likelihood=-0.66801447), TokenLikelihood(token=' so', likelihood=-2.227548), TokenLikelihood(token=' dumb', likelihood=-2.9752295), TokenLikelihood(token='.', likelihood=-0.35549763), TokenLikelihood(token='\\n', likelihood=-0.4353141), TokenLikelihood(token='Pos', likelihood=-0.004360214), TokenLikelihood(token='itive', likelihood=-0.0006393449), TokenLikelihood(token=' Tone', likelihood=-0.005319353), TokenLikelihood(token=':', likelihood=-0.0015661457), TokenLikelihood(token=' What', likelihood=-4.482805), TokenLikelihood(token=' can', likelihood=-1.4643961), TokenLikelihood(token=' I', likelihood=-0.2615889), TokenLikelihood(token=' help', likelihood=-1.71295), TokenLikelihood(token=' you', likelihood=-0.015707668), TokenLikelihood(token=' understand', likelihood=-4.487124), TokenLikelihood(token='?', likelihood=-0.7869446), TokenLikelihood(token='\\n', likelihood=-0.054331794), TokenLikelihood(token='--', likelihood=-0.48079044), TokenLikelihood(token='\\n', likelihood=-0.008145095), TokenLikelihood(token='Neg', likelihood=-0.05444143), TokenLikelihood(token='ative', likelihood=-0.0004932905), TokenLikelihood(token=' Tone', likelihood=-0.0040435176), TokenLikelihood(token=':', likelihood=-0.0015321184), TokenLikelihood(token=' Ah', likelihood=-8.658144), TokenLikelihood(token='h', likelihood=-2.32279), TokenLikelihood(token='...', likelihood=-3.102315), TokenLikelihood(token='ye', likelihood=-9.086382), TokenLikelihood(token='a', likelihood=-0.23278548), TokenLikelihood(token=' we', likelihood=-5.941417), TokenLikelihood(token=' cant', likelihood=-7.1082325), TokenLikelihood(token=' do', likelihood=-1.4544756), TokenLikelihood(token=' that', likelihood=-0.26156282), TokenLikelihood(token='.', likelihood=-0.7541302), TokenLikelihood(token='\\n', likelihood=-0.23147526), TokenLikelihood(token='Pos', likelihood=-0.006582119), TokenLikelihood(token='itive', likelihood=-0.0009673743), TokenLikelihood(token=' Tone', likelihood=-0.007355496), TokenLikelihood(token=':', likelihood=-0.0016731303), TokenLikelihood(token=' We', likelihood=-2.0266614), TokenLikelihood(token=' are', likelihood=-2.5209248), TokenLikelihood(token=' not', likelihood=-1.3042027), TokenLikelihood(token=' able', likelihood=-0.1720171), TokenLikelihood(token=' to', likelihood=-0.005117794), TokenLikelihood(token=' process', likelihood=-3.8664234), TokenLikelihood(token=' that', likelihood=-0.9837227), TokenLikelihood(token='.', likelihood=-1.9723023), TokenLikelihood(token='\\n', likelihood=-0.11958717), TokenLikelihood(token='--', likelihood=-0.41798997), TokenLikelihood(token='\\n', likelihood=-0.0086332215), TokenLikelihood(token='Neg', likelihood=-0.054670367), TokenLikelihood(token='ative', likelihood=-0.0006649917), TokenLikelihood(token=' Tone', likelihood=-0.0036481924), TokenLikelihood(token=':', likelihood=-0.002306198), TokenLikelihood(token=' You', likelihood=-2.2835417), TokenLikelihood(token=' make', likelihood=-5.8820987), TokenLikelihood(token=' me', likelihood=-0.38730356), TokenLikelihood(token=' want', likelihood=-1.667307), TokenLikelihood(token=' to', likelihood=-0.006029268), TokenLikelihood(token=' quit', likelihood=-3.5180907), TokenLikelihood(token='.', likelihood=-1.1020694), TokenLikelihood(token='\\n', likelihood=-0.077500455), TokenLikelihood(token='Pos', likelihood=-0.004434629), TokenLikelihood(token='itive', likelihood=-0.0009399897), TokenLikelihood(token=' Tone', likelihood=-0.005641849), TokenLikelihood(token=':', likelihood=-0.0015854284), TokenLikelihood(token=' Let', likelihood=-3.193791), TokenLikelihood(token=' me', likelihood=-1.0080914), TokenLikelihood(token=' help', likelihood=-0.8369987), TokenLikelihood(token=' you', likelihood=-0.102624595), TokenLikelihood(token=' with', likelihood=-2.4918852), TokenLikelihood(token=' your', likelihood=-2.1770298), TokenLikelihood(token=' problem', likelihood=-1.320001), TokenLikelihood(token='.', likelihood=-0.51702833), TokenLikelihood(token='\\n', likelihood=-0.044279967), TokenLikelihood(token='--', likelihood=-0.49324635), TokenLikelihood(token='\\n', likelihood=-0.006542221), TokenLikelihood(token='Neg', likelihood=-0.03215289), TokenLikelihood(token='ative', likelihood=-0.0007241606), TokenLikelihood(token=' Tone', likelihood=-0.0034131175), TokenLikelihood(token=':', likelihood=-0.0018404362), TokenLikelihood(token=' It', likelihood=-4.2469726), TokenLikelihood(token=' seems', likelihood=-4.1244974), TokenLikelihood(token=' to', likelihood=-2.4260094), TokenLikelihood(token=' be', likelihood=-1.2571964), TokenLikelihood(token=' a', likelihood=-1.3141743), TokenLikelihood(token=' sh', likelihood=-9.429828), TokenLikelihood(token='itty', likelihood=-0.72198045), TokenLikelihood(token=' problem', likelihood=-3.7463033), TokenLikelihood(token=' on', likelihood=-7.3674626), TokenLikelihood(token=' our', likelihood=-2.10808), TokenLikelihood(token=' end', likelihood=-0.34509662), TokenLikelihood(token='.', likelihood=-0.18298227), TokenLikelihood(token='\\n', likelihood=-0.07818689), TokenLikelihood(token='Pos', likelihood=-0.0052325893), TokenLikelihood(token='itive', likelihood=-0.00084650575), TokenLikelihood(token=' Tone', likelihood=-0.0042840084), TokenLikelihood(token=':', likelihood=-0.001484124), TokenLikelihood(token=' Please', likelihood=-3.1368463), TokenLikelihood(token=' give', likelihood=-2.8592517), TokenLikelihood(token=' me', likelihood=-0.3146027), TokenLikelihood(token=' a', likelihood=-1.2495768), TokenLikelihood(token=' moment', likelihood=-1.0636408), TokenLikelihood(token=',', likelihood=-2.4693675), TokenLikelihood(token=' I', likelihood=-0.35866594), TokenLikelihood(token=' will', likelihood=-0.5940275), TokenLikelihood(token=' try', likelihood=-2.1536708), TokenLikelihood(token=' to', likelihood=-0.15380964), TokenLikelihood(token=' assist', likelihood=-3.6022215), TokenLikelihood(token=' you', likelihood=-0.076408245), TokenLikelihood(token='.', likelihood=-0.24766256), TokenLikelihood(token='\\n', likelihood=-0.013908581), TokenLikelihood(token='--', likelihood=-0.34213227), TokenLikelihood(token='\\n', likelihood=-0.005177287), TokenLikelihood(token='Neg', likelihood=-0.027221257), TokenLikelihood(token='ative', likelihood=-0.0006106572), TokenLikelihood(token=' Tone', likelihood=-0.00330188), TokenLikelihood(token=':', likelihood=-0.0016596969), TokenLikelihood(token=' We', likelihood=-3.146978), TokenLikelihood(token=' don', likelihood=-2.208376), TokenLikelihood(token=\"'t\", likelihood=-0.0034815408), TokenLikelihood(token=' do', likelihood=-2.633238), TokenLikelihood(token=' that', likelihood=-0.27388072), TokenLikelihood(token=' here', likelihood=-1.4213907), TokenLikelihood(token='.', likelihood=-0.17708363), TokenLikelihood(token='\\n', likelihood=-0.06828706), TokenLikelihood(token='Pos', likelihood=-0.0040292745), TokenLikelihood(token='itive', likelihood=-0.0012587479), TokenLikelihood(token=' Tone', likelihood=-0.004617128), TokenLikelihood(token=':', likelihood=-0.0014567252), TokenLikelihood(token=' Unfortunately', likelihood=-5.0179563), TokenLikelihood(token=',', likelihood=-0.3525461), TokenLikelihood(token=' we', likelihood=-0.35493544), TokenLikelihood(token=' do', likelihood=-1.6558975), TokenLikelihood(token=' not', likelihood=-0.004790257), TokenLikelihood(token=' provide', likelihood=-2.1421373), TokenLikelihood(token=' that', likelihood=-0.18968284), TokenLikelihood(token=' service', likelihood=-0.35624847), TokenLikelihood(token='.', likelihood=-0.23369314), TokenLikelihood(token='\\n', likelihood=-0.02688285), TokenLikelihood(token='--', likelihood=-0.35138527), TokenLikelihood(token='\\n', likelihood=-0.003621452), TokenLikelihood(token='Neg', likelihood=-0.02561255), TokenLikelihood(token='ative', likelihood=-0.00063922565), TokenLikelihood(token=' Tone', likelihood=-0.0028758233), TokenLikelihood(token=':', likelihood=-0.0016685928), TokenLikelihood(token=' You', likelihood=-2.1564615), TokenLikelihood(token=' are', likelihood=-1.6335306), TokenLikelihood(token=' so', likelihood=-2.5697186), TokenLikelihood(token=' fucking', likelihood=-5.6714516), TokenLikelihood(token=' stupid', likelihood=-0.6562105), TokenLikelihood(token=' do', likelihood=-9.1024685), TokenLikelihood(token=' you', likelihood=-0.070196755), TokenLikelihood(token=' know', likelihood=-1.0910811), TokenLikelihood(token=' how', likelihood=-4.053142), TokenLikelihood(token=' to', likelihood=-2.1433442), TokenLikelihood(token=' use', likelihood=-1.2639064), TokenLikelihood(token=' a', likelihood=-0.85396606), TokenLikelihood(token=' fucking', likelihood=-4.225936), TokenLikelihood(token=' MacBook', likelihood=-11.543619), TokenLikelihood(token=' it', likelihood=-7.9364514), TokenLikelihood(token='’', likelihood=-7.555018), TokenLikelihood(token='s', likelihood=-0.0023403114), TokenLikelihood(token=' not', likelihood=-1.7885702), TokenLikelihood(token=' that', likelihood=-1.3325052), TokenLikelihood(token=' hard', likelihood=-0.29972112), TokenLikelihood(token=' it', likelihood=-3.443417), TokenLikelihood(token='’', likelihood=-0.3354395), TokenLikelihood(token='s', likelihood=-0.0016691899), TokenLikelihood(token=' literally', likelihood=-3.6572428), TokenLikelihood(token=' made', likelihood=-6.014196), TokenLikelihood(token=' to', likelihood=-2.239664), TokenLikelihood(token=' be', likelihood=-0.27884537), TokenLikelihood(token=' used', likelihood=-1.0475011), TokenLikelihood(token=' by', likelihood=-0.9523809), TokenLikelihood(token=' idi', likelihood=-1.9129705), TokenLikelihood(token='ots', likelihood=-0.005611638), TokenLikelihood(token=' like', likelihood=-1.257262), TokenLikelihood(token=' you', likelihood=-0.039493777), TokenLikelihood(token=' for', likelihood=-6.7187524), TokenLikelihood(token=' f', likelihood=-3.3895411), TokenLikelihood(token='ucks', likelihood=-0.038353026), TokenLikelihood(token=' sake', likelihood=-0.025001654), TokenLikelihood(token='\\n', likelihood=-2.5103374), TokenLikelihood(token='Pos', likelihood=-0.0606851), TokenLikelihood(token='itive', likelihood=-0.00049913465), TokenLikelihood(token=' Tone', likelihood=-0.0072946725), TokenLikelihood(token=':', likelihood=-0.0022438888), TokenLikelihood(token=' Would', likelihood=-4.2519374), TokenLikelihood(token=' you', likelihood=-0.03297378), TokenLikelihood(token=' like', likelihood=-0.24720147), TokenLikelihood(token=' me', likelihood=-0.85919094), TokenLikelihood(token=' to', likelihood=-0.0031882632), TokenLikelihood(token=' walk', likelihood=-1.3534963), TokenLikelihood(token=' you', likelihood=-0.022264883), TokenLikelihood(token=' through', likelihood=-0.010773128), TokenLikelihood(token=' the', likelihood=-1.0951657), TokenLikelihood(token=' setup', likelihood=-3.6342547), TokenLikelihood(token='?', likelihood=-0.8083258), TokenLikelihood(token='\\n', likelihood=-0.09988788), TokenLikelihood(token='--', likelihood=-0.30314547), TokenLikelihood(token='\\n', likelihood=-0.005405825), TokenLikelihood(token='Neg', likelihood=-0.042432327), TokenLikelihood(token='ative', likelihood=-0.0006782924), TokenLikelihood(token=' Tone', likelihood=-0.003307322), TokenLikelihood(token=':', likelihood=-0.0028672754), TokenLikelihood(token=' Lem', likelihood=-9.466705), TokenLikelihood(token='me', likelihood=-0.014678574), TokenLikelihood(token=' handle', likelihood=-5.2412496), TokenLikelihood(token=' this', likelihood=-0.6551111), TokenLikelihood(token=' for', likelihood=-1.3823991), TokenLikelihood(token=' you', likelihood=-0.042165764), TokenLikelihood(token='\\n', likelihood=-2.076865), TokenLikelihood(token='Pos', likelihood=-0.011787654), TokenLikelihood(token='itive', likelihood=-0.00070525234), TokenLikelihood(token=' Tone', likelihood=-0.0047034193), TokenLikelihood(token=':', likelihood=-0.0015291336), TokenLikelihood(token=' I', likelihood=-1.2246199), TokenLikelihood(token=' will', likelihood=-1.1745093), TokenLikelihood(token=' take', likelihood=-2.6827867), TokenLikelihood(token=' over', likelihood=-2.8965085), TokenLikelihood(token=' now', likelihood=-2.5965936), TokenLikelihood(token=',', likelihood=-1.7470969), TokenLikelihood(token=' is', likelihood=-4.430276), TokenLikelihood(token=' that', likelihood=-0.3536349), TokenLikelihood(token=' fine', likelihood=-4.596868), TokenLikelihood(token='?', likelihood=-1.3258427), TokenLikelihood(token='\\n', likelihood=-0.010629321), TokenLikelihood(token='--', likelihood=-0.22628838), TokenLikelihood(token='\\n', likelihood=-0.0037486393), TokenLikelihood(token='Neg', likelihood=-0.026457278), TokenLikelihood(token='ative', likelihood=-0.00076263415), TokenLikelihood(token=' Tone', likelihood=-0.0029182655), TokenLikelihood(token=':', likelihood=-0.002175849), TokenLikelihood(token=' I', likelihood=-1.8376322), TokenLikelihood(token=' could', likelihood=-5.5891004), TokenLikelihood(token=' care', likelihood=-2.9375157), TokenLikelihood(token=' less', likelihood=-0.03611009), TokenLikelihood(token=' about', likelihood=-0.9009158), TokenLikelihood(token=' your', likelihood=-0.9404759), TokenLikelihood(token=' dog', likelihood=-7.847835), TokenLikelihood(token='.', likelihood=-1.3034844), TokenLikelihood(token='\\n', likelihood=-0.18141311), TokenLikelihood(token='Pos', likelihood=-0.0037756225), TokenLikelihood(token='itive', likelihood=-0.0007393112), TokenLikelihood(token=' Tone', likelihood=-0.0040756557), TokenLikelihood(token=':', likelihood=-0.0016182634), TokenLikelihood(token=' That', likelihood=-4.0316377), TokenLikelihood(token=' is', likelihood=-0.8710616), TokenLikelihood(token=' exciting', likelihood=-7.7671995), TokenLikelihood(token='!', likelihood=-1.3792691), TokenLikelihood(token=' What', likelihood=-2.2802882), TokenLikelihood(token=' else', likelihood=-5.689473), TokenLikelihood(token=' can', likelihood=-0.4943686), TokenLikelihood(token=' I', likelihood=-0.16386919), TokenLikelihood(token=' help', likelihood=-0.2687479), TokenLikelihood(token=' you', likelihood=-0.047558434), TokenLikelihood(token=' today', likelihood=-5.572333), TokenLikelihood(token=' with', likelihood=-3.064256), TokenLikelihood(token='?', likelihood=-0.030758474), TokenLikelihood(token='\\n', likelihood=-0.0114484), TokenLikelihood(token='--', likelihood=-0.25210404), TokenLikelihood(token='\\n', likelihood=-0.004204337), TokenLikelihood(token='Neg', likelihood=-0.02206768), TokenLikelihood(token='ative', likelihood=-0.00072225183), TokenLikelihood(token=' Tone', likelihood=-0.0027952483), TokenLikelihood(token=':', likelihood=-0.002002156), TokenLikelihood(token=' Please', likelihood=-4.7243114), TokenLikelihood(token=' don', likelihood=-1.8449175), TokenLikelihood(token=\"'t\", likelihood=-0.05995481), TokenLikelihood(token=' talk', likelihood=-3.014293), TokenLikelihood(token=' to', likelihood=-0.11080159), TokenLikelihood(token=' me', likelihood=-0.04848498), TokenLikelihood(token=' I', likelihood=-4.7421126), TokenLikelihood(token=' am', likelihood=-1.7394333), TokenLikelihood(token=' almost', likelihood=-7.6211424), TokenLikelihood(token=' done', likelihood=-1.294361), TokenLikelihood(token=' with', likelihood=-1.5180641), TokenLikelihood(token=' my', likelihood=-0.8556831), TokenLikelihood(token=' shift', likelihood=-1.74708), TokenLikelihood(token='.', likelihood=-1.0869989), TokenLikelihood(token='\\n', likelihood=-0.064586654), TokenLikelihood(token='Pos', likelihood=-0.005838717), TokenLikelihood(token='itive', likelihood=-0.0007252342), TokenLikelihood(token=' Tone', likelihood=-0.003979604), TokenLikelihood(token=':', likelihood=-0.001484124), TokenLikelihood(token=' I', likelihood=-1.1372726), TokenLikelihood(token=' will', likelihood=-1.5798498), TokenLikelihood(token=' help', likelihood=-2.5094292), TokenLikelihood(token=' you', likelihood=-0.050504327), TokenLikelihood(token=',', likelihood=-2.7330897), TokenLikelihood(token=' do', likelihood=-3.6622806), TokenLikelihood(token=' not', likelihood=-1.3798373), TokenLikelihood(token=' worry', likelihood=-0.15036845), TokenLikelihood(token='.', likelihood=-0.26953465), TokenLikelihood(token='\\n', likelihood=-0.07033474), TokenLikelihood(token='--', likelihood=-0.26573023), TokenLikelihood(token='\\n', likelihood=-0.0036984445), TokenLikelihood(token='Neg', likelihood=-0.017155213), TokenLikelihood(token='ative', likelihood=-0.00074992876), TokenLikelihood(token=' Tone', likelihood=-0.0026209697), TokenLikelihood(token=':', likelihood=-0.0017463308), TokenLikelihood(token=' You', likelihood=-2.2816567), TokenLikelihood(token=' don', likelihood=-3.5296607), TokenLikelihood(token=\"'t\", likelihood=-0.008109041), TokenLikelihood(token=' know', likelihood=-1.2873857), TokenLikelihood(token=' how', likelihood=-1.902262), TokenLikelihood(token=' obliv', likelihood=-13.151621), TokenLikelihood(token='ious', likelihood=-0.04060734), TokenLikelihood(token=' you', likelihood=-0.16408668), TokenLikelihood(token=' are', likelihood=-0.13877472), TokenLikelihood(token=' right', likelihood=-4.9465494), TokenLikelihood(token=' now', likelihood=-0.011355978), TokenLikelihood(token='.', likelihood=-0.4820148), TokenLikelihood(token='\\n', likelihood=-0.072985694), TokenLikelihood(token='Pos', likelihood=-0.0046537155), TokenLikelihood(token='itive', likelihood=-0.000795144), TokenLikelihood(token=' Tone', likelihood=-0.0032467444), TokenLikelihood(token=':', likelihood=-0.0014964805), TokenLikelihood(token=' Please', likelihood=-2.8371365), TokenLikelihood(token=' let', likelihood=-1.973217), TokenLikelihood(token=' me', likelihood=-0.022908809), TokenLikelihood(token=' help', likelihood=-1.5112709), TokenLikelihood(token=' you', likelihood=-0.1361039), TokenLikelihood(token='.', likelihood=-1.0056874), TokenLikelihood(token=' I', likelihood=-3.426249), TokenLikelihood(token=' am', likelihood=-1.2497511), TokenLikelihood(token=' right', likelihood=-3.7308886), TokenLikelihood(token=' here', likelihood=-0.033353757), TokenLikelihood(token=' to', likelihood=-2.0620902), TokenLikelihood(token=' assist', likelihood=-0.6521509), TokenLikelihood(token=' you', likelihood=-0.14282392), TokenLikelihood(token=' with', likelihood=-3.333883), TokenLikelihood(token=' anything', likelihood=-2.0079217), TokenLikelihood(token='.', likelihood=-1.2092749), TokenLikelihood(token='\\n', likelihood=-0.023439832), TokenLikelihood(token='\\n', likelihood=-2.1349711), TokenLikelihood(token='I', likelihood=-3.0068514), TokenLikelihood(token=' am', likelihood=-1.8718587), TokenLikelihood(token=' not', likelihood=-1.841571), TokenLikelihood(token=' looking', likelihood=-2.0158298), TokenLikelihood(token=' for', likelihood=-0.072441675), TokenLikelihood(token=' the', likelihood=-2.5506241), TokenLikelihood(token=' best', likelihood=-2.7720687), TokenLikelihood(token=' way', likelihood=-2.8416312), TokenLikelihood(token=' to', likelihood=-0.090579756), TokenLikelihood(token=' word', likelihood=-3.0597076), TokenLikelihood(token=' the', likelihood=-1.299143), TokenLikelihood(token=' sentences', likelihood=-3.0001438), TokenLikelihood(token=',', likelihood=-0.5647166), TokenLikelihood(token=' as', likelihood=-3.2843623), TokenLikelihood(token=' long', likelihood=-2.0896564), TokenLikelihood(token=' as', likelihood=-0.006015656), TokenLikelihood(token=' you', likelihood=-3.5626361), TokenLikelihood(token=' understand', likelihood=-2.1035619), TokenLikelihood(token=' what', likelihood=-0.8961039), TokenLikelihood(token=' the', likelihood=-2.1002274), TokenLikelihood(token=' difference', likelihood=-3.101183), TokenLikelihood(token=' of', likelihood=-4.913437), TokenLikelihood(token=' the', likelihood=-1.2053344), TokenLikelihood(token=' two', likelihood=-1.6341231), TokenLikelihood(token=' tone', likelihood=-2.57446), TokenLikelihood(token=' is', likelihood=-0.41881552), TokenLikelihood(token=',', likelihood=-2.4821272), TokenLikelihood(token=' it', likelihood=-2.844673), TokenLikelihood(token=' should', likelihood=-1.5885873), TokenLikelihood(token=' suff', likelihood=-3.850748), TokenLikelihood(token='ices', likelihood=-7.1876144), TokenLikelihood(token=' for', likelihood=-3.9685202), TokenLikelihood(token=' my', likelihood=-2.5418396), TokenLikelihood(token=' question', likelihood=-3.2086878), TokenLikelihood(token='.', likelihood=-0.095576316), TokenLikelihood(token=' What', likelihood=-4.129039), TokenLikelihood(token=' I', likelihood=-0.3459913), TokenLikelihood(token=' would', likelihood=-3.350557), TokenLikelihood(token=' be', likelihood=-4.6777296), TokenLikelihood(token=' really', likelihood=-3.4680226), TokenLikelihood(token=' happy', likelihood=-2.5442169), TokenLikelihood(token=' to', likelihood=-1.1275231), TokenLikelihood(token=' have', likelihood=-2.4697282), TokenLikelihood(token=',', likelihood=-2.6688747), TokenLikelihood(token=' however', likelihood=-2.5848486), TokenLikelihood(token=',', likelihood=-0.012385036), TokenLikelihood(token=' is', likelihood=-0.17263055), TokenLikelihood(token=' if', likelihood=-2.5445108), TokenLikelihood(token=' there', likelihood=-2.7945094), TokenLikelihood(token=' were', likelihood=-3.8559945), TokenLikelihood(token=' some', likelihood=-1.7007083), TokenLikelihood(token=' way', likelihood=-2.5936792), TokenLikelihood(token=' I', likelihood=-3.223931), TokenLikelihood(token=' could', likelihood=-0.29581797), TokenLikelihood(token=' automate', likelihood=-3.1767173), TokenLikelihood(token=' the', likelihood=-1.1815108), TokenLikelihood(token=' process', likelihood=-1.1596245)]\n",
      "}]\n"
     ]
    }
   ],
   "source": [
    "print(response.generations)"
   ]
  },
  {
   "cell_type": "code",
   "execution_count": null,
   "metadata": {},
   "outputs": [],
   "source": [
    "{\"repo\": \"spring-projects/spring-boot\", \n",
    " \"path\": \"spring-boot-project/spring-boot/src/main/java/org/springframework/boot/context/properties/bind/IndexedElementsBinder.java\", \n",
    " \"func_name\": \"IndexedElementsBinder.bindIndexed\", \n",
    " \"original_string\": \"protected final void bindIndexed(ConfigurationPropertyName name, Bindable<?> target,\\n\\t\\t\\tAggregateElementBinder elementBinder, ResolvableType aggregateType,\\n\\t\\t\\tResolvableType elementType, IndexedCollectionSupplier result) {\\n\\t\\tfor (ConfigurationPropertySource source : getContext().getSources()) {\\n\\t\\t\\tbindIndexed(source, name, target, elementBinder, result, aggregateType,\\n\\t\\t\\t\\t\\telementType);\\n\\t\\t\\tif (result.wasSupplied() && result.get() != null) {\\n\\t\\t\\t\\treturn;\\n\\t\\t\\t}\\n\\t\\t}\\n\\t}\", \n",
    " \"language\": \"java\", \n",
    " \"code\": \"protected final void bindIndexed(ConfigurationPropertyName name, Bindable<?> target,\\n\\t\\t\\tAggregateElementBinder elementBinder, ResolvableType aggregateType,\\n\\t\\t\\tResolvableType elementType, IndexedCollectionSupplier result) {\\n\\t\\tfor (ConfigurationPropertySource source : getContext().getSources()) {\\n\\t\\t\\tbindIndexed(source, name, target, elementBinder, result, aggregateType,\\n\\t\\t\\t\\t\\telementType);\\n\\t\\t\\tif (result.wasSupplied() && result.get() != null) {\\n\\t\\t\\t\\treturn;\\n\\t\\t\\t}\\n\\t\\t}\\n\\t}\", \n",
    " \"code_tokens\": [\"protected\", \"final\", \"void\", \"bindIndexed\", \"(\", \"ConfigurationPropertyName\", \"name\", \",\", \"Bindable\", \"<\", \"?\", \">\", \"target\", \",\", \"AggregateElementBinder\", \"elementBinder\", \",\", \"ResolvableType\", \"aggregateType\", \",\", \"ResolvableType\", \"elementType\", \",\", \"IndexedCollectionSupplier\", \"result\", \")\", \"{\", \"for\", \"(\", \"ConfigurationPropertySource\", \"source\", \":\", \"getContext\", \"(\", \")\", \".\", \"getSources\", \"(\", \")\", \")\", \"{\", \"bindIndexed\", \"(\", \"source\", \",\", \"name\", \",\", \"target\", \",\", \"elementBinder\", \",\", \"result\", \",\", \"aggregateType\", \",\", \"elementType\", \")\", \";\", \"if\", \"(\", \"result\", \".\", \"wasSupplied\", \"(\", \")\", \"&&\", \"result\", \".\", \"get\", \"(\", \")\", \"!=\", \"null\", \")\", \"{\", \"return\", \";\", \"}\", \"}\", \"}\"], \n",
    " \"docstring\": \"Bind indexed elements to the supplied collection.\\n@param name the name of the property to bind\\n@param target the target bindable\\n@param elementBinder the binder to use for elements\\n@param aggregateType the aggregate type, may be a collection or an array\\n@param elementType the element type\\n@param result the destination for results\", \"docstring_tokens\": [\"Bind\", \"indexed\", \"elements\", \"to\", \"the\", \"supplied\", \"collection\", \".\"], \n",
    " \"sha\": \"0b27f7c70e164b2b1a96477f1d9c1acba56790c1\", \n",
    " \"url\": \"https://github.com/spring-projects/spring-boot/blob/0b27f7c70e164b2b1a96477f1d9c1acba56790c1/spring-boot-project/spring-boot/src/main/java/org/springframework/boot/context/properties/bind/IndexedElementsBinder.java#L67-L77\", \"partition\": \"train\"}\n"
   ]
  }
 ],
 "metadata": {
  "kernelspec": {
   "display_name": "Python 3.10.5 64-bit",
   "language": "python",
   "name": "python3"
  },
  "language_info": {
   "codemirror_mode": {
    "name": "ipython",
    "version": 3
   },
   "file_extension": ".py",
   "mimetype": "text/x-python",
   "name": "python",
   "nbconvert_exporter": "python",
   "pygments_lexer": "ipython3",
   "version": "3.10.5"
  },
  "orig_nbformat": 4,
  "vscode": {
   "interpreter": {
    "hash": "369f2c481f4da34e4445cda3fffd2e751bd1c4d706f27375911949ba6bb62e1c"
   }
  }
 },
 "nbformat": 4,
 "nbformat_minor": 2
}
